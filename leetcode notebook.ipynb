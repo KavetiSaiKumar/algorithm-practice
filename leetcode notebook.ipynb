{
 "cells": [
  {
   "cell_type": "markdown",
   "metadata": {},
   "source": [
    "Leetcode"
   ]
  },
  {
   "cell_type": "markdown",
   "metadata": {},
   "source": [
    "Arrays"
   ]
  },
  {
   "cell_type": "code",
   "execution_count": 1,
   "metadata": {},
   "outputs": [
    {
     "data": {
      "text/plain": [
       "[0, 1]"
      ]
     },
     "execution_count": 1,
     "metadata": {},
     "output_type": "execute_result"
    }
   ],
   "source": [
    "# Two Sum\n",
    "# Given an array of integers nums and an integer target, return indices of the two numbers such that they add up to target.\n",
    "\n",
    "# You may assume that each input would have exactly one solution, and you may not use the same element twice.\n",
    "\n",
    "# You can return the answer in any order.\n",
    "\n",
    "def twoSum(nums, target):\n",
    "    \"\"\"\n",
    "    :type nums: List[int]\n",
    "    :type target: int\n",
    "    :rtype: List[int]\n",
    "    \"\"\"\n",
    "    hash_map = {}\n",
    "    for index, element in enumerate(nums):\n",
    "        if target - element in hash_map:\n",
    "            # if present return current and looking up index\n",
    "            return [hash_map[target - element], index]\n",
    "        else:\n",
    "            hash_map[element] = index\n",
    "\n",
    "twoSum([2,7,11,15], 9) # [0,1]\n",
    "twoSum([3,2,4], 6) # [1,2]\n",
    "twoSum([3,3], 6) # [0,1]"
   ]
  },
  {
   "cell_type": "code",
   "execution_count": 2,
   "metadata": {},
   "outputs": [],
   "source": [
    "# 1365. How Many Numbers Are Smaller Than the Current Number\n",
    "\n",
    "# Given the array nums, for each nums[i] find out how many numbers in the array are smaller than it. That is, for each nums[i] you have to count the number of valid j's such that j != i and nums[j] < nums[i].\n",
    "\n",
    "# Return the answer in an array.\n",
    "\n",
    "class Solution(object):\n",
    "    def smallerNumbersThanCurrent(self, nums):\n",
    "        \"\"\"\n",
    "        :type nums: List[int]\n",
    "        :rtype: List[int]\n",
    "        \"\"\"\n",
    "        ### Solution is to sort the nums and then create a dictionary with the index of the sorted list. Since the list is sorted, the index of the element in the sorted list will be the number of elements smaller than it.\n",
    "        temp_dict = {}\n",
    "        sorted_ls = sorted(nums)\n",
    "        for idx, e in enumerate(sorted_ls):\n",
    "            if e not in temp_dict:\n",
    "                temp_dict[e] = idx\n",
    "\n",
    "        ret = []\n",
    "\n",
    "        for val in nums:\n",
    "            ret.append(temp_dict[val])\n",
    "\n",
    "        return ret\n",
    "    \n",
    "Solution().smallerNumbersThanCurrent([8,1,2,2,3]) # [4,0,1,1,3]\n",
    "Solution().smallerNumbersThanCurrent([6,5,4,8]) # [2,1,0,3]\n",
    "Solution().smallerNumbersThanCurrent([7,7,7,7]) # [0,0,0,0]"
   ]
  },
  {
   "cell_type": "code",
   "execution_count": null,
   "metadata": {},
   "outputs": [],
   "source": []
  },
  {
   "cell_type": "code",
   "execution_count": null,
   "metadata": {},
   "outputs": [],
   "source": []
  }
 ],
 "metadata": {
  "kernelspec": {
   "display_name": "Python 3",
   "language": "python",
   "name": "python3"
  },
  "language_info": {
   "codemirror_mode": {
    "name": "ipython",
    "version": 3
   },
   "file_extension": ".py",
   "mimetype": "text/x-python",
   "name": "python",
   "nbconvert_exporter": "python",
   "pygments_lexer": "ipython3",
   "version": "3.12.6"
  }
 },
 "nbformat": 4,
 "nbformat_minor": 2
}
